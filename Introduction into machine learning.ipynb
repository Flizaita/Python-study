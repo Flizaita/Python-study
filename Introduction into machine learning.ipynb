{
 "cells": [
  {
   "cell_type": "markdown",
   "metadata": {},
   "source": [
    "# Metrics"
   ]
  },
  {
   "cell_type": "code",
   "execution_count": 199,
   "metadata": {
    "collapsed": false
   },
   "outputs": [
    {
     "name": "stdout",
     "output_type": "stream",
     "text": [
      "43 34 64 59\n",
      "0.535 0.558441558442 0.421568627451 0.480446927374\n",
      "[0.71918767507002801, 0.70868347338935567, 0.63515406162464982, 0.69192677070828335]\n",
      "3\n"
     ]
    }
   ],
   "source": [
    "import pandas as pd\n",
    "import numpy as np\n",
    "import sklearn.metrics as skm\n",
    "\n",
    "data = pd.read_csv(\"classification.csv\")\n",
    "\n",
    "tp = len(data[(data['true'] == 1) & (data['pred'] ==1)])\n",
    "fp = len(data[(data['true'] == 0) & (data['pred'] ==1)])\n",
    "tn = len(data[(data['true'] == 0) & (data['pred'] ==0)])\n",
    "fn = len(data[(data['true'] == 1) & (data['pred'] ==0)])\n",
    "\n",
    "print tp, fp, tn, fn\n",
    "\n",
    "acc = skm.accuracy_score(data['true'], data['pred'])\n",
    "precision = skm.precision_score(data['true'], data['pred'])\n",
    "recall = skm.recall_score(data['true'], data['pred'])\n",
    "f_score = skm.f1_score(data['true'], data['pred'])\n",
    "\n",
    "print acc, precision, recall, f_score\n",
    "\n",
    "classif_num = len(class_scores.columns)\n",
    "class_scores = pd.read_csv(\"scores.csv\") \n",
    "auc_scores = [skm.roc_auc_score(class_scores['true'], class_scores.ix[:,i]) for i in xrange(1,classif_num )]\n",
    "\n",
    "print auc_scores\n",
    "\n",
    "presicion_l = list(xrange(classif_num - 1))\n",
    "recall_l = list(xrange(classif_num - 1))\n",
    "\n",
    "for i in xrange(1,classif_num):\n",
    "    presicion_l[i-1], recall_l[i-1],_ = skm.precision_recall_curve(class_scores['true'], class_scores.ix[:,i])\n",
    "    \n",
    "maximas = []\n",
    "\n",
    "for i in xrange(classif_num - 1):\n",
    "    dataf = pd.DataFrame({'P': presicion_l[i], 'R': recall_l[i]})\n",
    "    temp = dataf[dataf['R'] >= 0.7]\n",
    "    maximas.append(max(temp['P']))\n",
    "    \n",
    "print np.argmax(maximas)"
   ]
  },
  {
   "cell_type": "markdown",
   "metadata": {
    "collapsed": true
   },
   "source": [
    "# Linear Regression"
   ]
  },
  {
   "cell_type": "code",
   "execution_count": 17,
   "metadata": {
    "collapsed": false
   },
   "outputs": [
    {
     "name": "stdout",
     "output_type": "stream",
     "text": [
      "                                     FullDescription LocationNormalized  \\\n",
      "0  international sales manager london     k      ...             London   \n",
      "1  an ideal opportunity for an individual that ha...             London   \n",
      "2  online content and brand manager   luxury reta...  South East London   \n",
      "3  a great local marketleader is seeking a perman...            Dereham   \n",
      "4  registered nurse   rgn  nursing home for young...   Sutton Coldfield   \n",
      "\n",
      "  ContractTime  SalaryNormalized  \n",
      "0    permanent             33000  \n",
      "1    permanent             50000  \n",
      "2    permanent             40000  \n",
      "3    permanent             22500  \n",
      "4          NaN             20355  \n"
     ]
    }
   ],
   "source": [
    "import numpy as np\n",
    "import pandas as pd\n",
    "\n",
    "data = pd.read_csv(\"salary-train.csv\")\n",
    "data_test = pd.read_csv(\"salary-test-mini.csv\")\n",
    "\n",
    "data['FullDescription'] = [text.lower() for text in data['FullDescription']]\n",
    "data['FullDescription'] = data['FullDescription'].replace('[^a-z0-9]', ' ', regex = True)\n",
    "\n",
    "data_test['FullDescription'] = [text.lower() for text in data_test['FullDescription']]\n",
    "data_test['FullDescription'] = data_test['FullDescription'].replace('[^a-z0-9]', ' ', regex = True)\n",
    "\n",
    "print data.head()"
   ]
  },
  {
   "cell_type": "code",
   "execution_count": 18,
   "metadata": {
    "collapsed": false
   },
   "outputs": [
    {
     "name": "stdout",
     "output_type": "stream",
     "text": [
      "                                     FullDescription LocationNormalized  \\\n",
      "0  international sales manager london     k      ...             London   \n",
      "1  an ideal opportunity for an individual that ha...             London   \n",
      "2  online content and brand manager   luxury reta...  South East London   \n",
      "3  a great local marketleader is seeking a perman...            Dereham   \n",
      "4  registered nurse   rgn  nursing home for young...   Sutton Coldfield   \n",
      "\n",
      "  ContractTime  SalaryNormalized  \n",
      "0    permanent             33000  \n",
      "1    permanent             50000  \n",
      "2    permanent             40000  \n",
      "3    permanent             22500  \n",
      "4          NaN             20355  \n"
     ]
    }
   ],
   "source": [
    "from sklearn.feature_extraction.text import TfidfVectorizer\n",
    "vectorizer = TfidfVectorizer(min_df = 5)\n",
    "X_text = vectorizer.fit_transform(data['FullDescription'])\n",
    "X_test = vectorizer.transform(data_test['FullDescription'])\n",
    "print data.head()"
   ]
  },
  {
   "cell_type": "markdown",
   "metadata": {},
   "source": [
    "data['LocationNormalized'].fillna('nan', inplace=True)\n",
    "data['ContractTime'].fillna('nan', inplace=True)\n",
    "\n",
    "data_test['LocationNormalized'].fillna('nan', inplace=True)\n",
    "data_test['ContractTime'].fillna('nan', inplace=True)\n",
    "\n",
    "print data.head()\n",
    "\n",
    "from sklearn.feature_extraction import DictVectorizer\n",
    "enc = DictVectorizer()\n",
    "X_train_categ = enc.fit_transform(data[['LocationNormalized', 'ContractTime']].to_dict('records'))\n",
    "X_test_categ = enc.transform(data_test[['LocationNormalized', 'ContractTime']].to_dict('records'))"
   ]
  },
  {
   "cell_type": "code",
   "execution_count": 20,
   "metadata": {
    "collapsed": false
   },
   "outputs": [],
   "source": [
    "from scipy.sparse import vstack, hstack,coo_matrix\n",
    "\n",
    "X_train_f = hstack([X_text, X_train_categ])\n",
    "X_test_f = hstack([X_test, X_test_categ])"
   ]
  },
  {
   "cell_type": "code",
   "execution_count": 21,
   "metadata": {
    "collapsed": false
   },
   "outputs": [
    {
     "data": {
      "text/plain": [
       "Ridge(alpha=1, copy_X=True, fit_intercept=True, max_iter=None,\n",
       "   normalize=False, random_state=241, solver='auto', tol=0.001)"
      ]
     },
     "execution_count": 21,
     "metadata": {},
     "output_type": "execute_result"
    }
   ],
   "source": [
    "from sklearn.linear_model import Ridge\n",
    "clf = Ridge(alpha = 1, random_state = 241)\n",
    "clf.fit(X_train_f, data['SalaryNormalized'])"
   ]
  },
  {
   "cell_type": "code",
   "execution_count": 22,
   "metadata": {
    "collapsed": false
   },
   "outputs": [
    {
     "name": "stdout",
     "output_type": "stream",
     "text": [
      "[ 56555.61500155  37188.32442618]\n"
     ]
    }
   ],
   "source": [
    "print clf.predict(X_test_f)\n"
   ]
  },
  {
   "cell_type": "markdown",
   "metadata": {},
   "source": [
    "# Method of main components"
   ]
  },
  {
   "cell_type": "code",
   "execution_count": 17,
   "metadata": {
    "collapsed": false
   },
   "outputs": [
    {
     "name": "stdout",
     "output_type": "stream",
     "text": [
      "         date          ^DJI\n",
      "0  2013-09-23  15401.379883\n",
      "1  2013-09-24  15334.589844\n",
      "2  2013-09-25  15273.259766\n",
      "3  2013-09-26  15328.299805\n",
      "4  2013-09-27  15258.240234\n"
     ]
    }
   ],
   "source": [
    "\n",
    "import pandas as pd\n",
    "\n",
    "prices = pd.read_csv(\"close_prices.csv\")\n",
    "index = pd.read_csv(\"djia_index.csv\")\n",
    "\n",
    "prices = prices.drop('date',1)\n",
    "\n",
    "print index.head()"
   ]
  },
  {
   "cell_type": "code",
   "execution_count": 38,
   "metadata": {
    "collapsed": false,
    "scrolled": true
   },
   "outputs": [
    {
     "name": "stdout",
     "output_type": "stream",
     "text": [
      "[ 0.73897118  0.11007169  0.04995088  0.0287492   0.02215448  0.01931577\n",
      "  0.00674853  0.00614091  0.00320594  0.00305611]\n",
      "[[ 1.          0.90965222]\n",
      " [ 0.90965222  1.        ]]\n",
      "V\n"
     ]
    }
   ],
   "source": [
    "from sklearn.decomposition import PCA\n",
    "import numpy as np\n",
    "\n",
    "\n",
    "pca = PCA(n_components = 10)\n",
    "pca.fit(prices)\n",
    "\n",
    "print pca.explained_variance_ratio_\n",
    "\n",
    "tr_prices = pd.DataFrame(pca.transform(prices))\n",
    "\n",
    "print np.corrcoef(tr_prices[0], index['^DJI'])\n",
    "\n",
    "print prices.columns.values[np.argmax(pca.components_[0])]"
   ]
  },
  {
   "cell_type": "markdown",
   "metadata": {
    "collapsed": true
   },
   "source": [
    "# Random Forest"
   ]
  },
  {
   "cell_type": "code",
   "execution_count": 1,
   "metadata": {
    "collapsed": false
   },
   "outputs": [
    {
     "name": "stdout",
     "output_type": "stream",
     "text": [
      "      Sex  Length  Diameter  Height  WholeWeight  ShuckedWeight  \\\n",
      "0       1   0.455     0.365   0.095       0.5140         0.2245   \n",
      "1       1   0.350     0.265   0.090       0.2255         0.0995   \n",
      "2      -1   0.530     0.420   0.135       0.6770         0.2565   \n",
      "3       1   0.440     0.365   0.125       0.5160         0.2155   \n",
      "4       0   0.330     0.255   0.080       0.2050         0.0895   \n",
      "5       0   0.425     0.300   0.095       0.3515         0.1410   \n",
      "6      -1   0.530     0.415   0.150       0.7775         0.2370   \n",
      "7      -1   0.545     0.425   0.125       0.7680         0.2940   \n",
      "8       1   0.475     0.370   0.125       0.5095         0.2165   \n",
      "9      -1   0.550     0.440   0.150       0.8945         0.3145   \n",
      "10     -1   0.525     0.380   0.140       0.6065         0.1940   \n",
      "11      1   0.430     0.350   0.110       0.4060         0.1675   \n",
      "12      1   0.490     0.380   0.135       0.5415         0.2175   \n",
      "13     -1   0.535     0.405   0.145       0.6845         0.2725   \n",
      "14     -1   0.470     0.355   0.100       0.4755         0.1675   \n",
      "15      1   0.500     0.400   0.130       0.6645         0.2580   \n",
      "16      0   0.355     0.280   0.085       0.2905         0.0950   \n",
      "17     -1   0.440     0.340   0.100       0.4510         0.1880   \n",
      "18      1   0.365     0.295   0.080       0.2555         0.0970   \n",
      "19      1   0.450     0.320   0.100       0.3810         0.1705   \n",
      "20      1   0.355     0.280   0.095       0.2455         0.0955   \n",
      "21      0   0.380     0.275   0.100       0.2255         0.0800   \n",
      "22     -1   0.565     0.440   0.155       0.9395         0.4275   \n",
      "23     -1   0.550     0.415   0.135       0.7635         0.3180   \n",
      "24     -1   0.615     0.480   0.165       1.1615         0.5130   \n",
      "25     -1   0.560     0.440   0.140       0.9285         0.3825   \n",
      "26     -1   0.580     0.450   0.185       0.9955         0.3945   \n",
      "27      1   0.590     0.445   0.140       0.9310         0.3560   \n",
      "28      1   0.605     0.475   0.180       0.9365         0.3940   \n",
      "29      1   0.575     0.425   0.140       0.8635         0.3930   \n",
      "...   ...     ...       ...     ...          ...            ...   \n",
      "4147    1   0.695     0.550   0.195       1.6645         0.7270   \n",
      "4148    1   0.770     0.605   0.175       2.0505         0.8005   \n",
      "4149    0   0.280     0.215   0.070       0.1240         0.0630   \n",
      "4150    0   0.330     0.230   0.080       0.1400         0.0565   \n",
      "4151    0   0.350     0.250   0.075       0.1695         0.0835   \n",
      "4152    0   0.370     0.280   0.090       0.2180         0.0995   \n",
      "4153    0   0.430     0.315   0.115       0.3840         0.1885   \n",
      "4154    0   0.435     0.330   0.095       0.3930         0.2190   \n",
      "4155    0   0.440     0.350   0.110       0.3805         0.1575   \n",
      "4156    1   0.475     0.370   0.110       0.4895         0.2185   \n",
      "4157    1   0.475     0.360   0.140       0.5135         0.2410   \n",
      "4158    0   0.480     0.355   0.110       0.4495         0.2010   \n",
      "4159   -1   0.560     0.440   0.135       0.8025         0.3500   \n",
      "4160   -1   0.585     0.475   0.165       1.0530         0.4580   \n",
      "4161   -1   0.585     0.455   0.170       0.9945         0.4255   \n",
      "4162    1   0.385     0.255   0.100       0.3175         0.1370   \n",
      "4163    0   0.390     0.310   0.085       0.3440         0.1810   \n",
      "4164    0   0.390     0.290   0.100       0.2845         0.1255   \n",
      "4165    0   0.405     0.300   0.085       0.3035         0.1500   \n",
      "4166    0   0.475     0.365   0.115       0.4990         0.2320   \n",
      "4167    1   0.500     0.380   0.125       0.5770         0.2690   \n",
      "4168   -1   0.515     0.400   0.125       0.6150         0.2865   \n",
      "4169    1   0.520     0.385   0.165       0.7910         0.3750   \n",
      "4170    1   0.550     0.430   0.130       0.8395         0.3155   \n",
      "4171    1   0.560     0.430   0.155       0.8675         0.4000   \n",
      "4172   -1   0.565     0.450   0.165       0.8870         0.3700   \n",
      "4173    1   0.590     0.440   0.135       0.9660         0.4390   \n",
      "4174    1   0.600     0.475   0.205       1.1760         0.5255   \n",
      "4175   -1   0.625     0.485   0.150       1.0945         0.5310   \n",
      "4176    1   0.710     0.555   0.195       1.9485         0.9455   \n",
      "\n",
      "      VisceraWeight  ShellWeight  Rings  \n",
      "0            0.1010       0.1500     15  \n",
      "1            0.0485       0.0700      7  \n",
      "2            0.1415       0.2100      9  \n",
      "3            0.1140       0.1550     10  \n",
      "4            0.0395       0.0550      7  \n",
      "5            0.0775       0.1200      8  \n",
      "6            0.1415       0.3300     20  \n",
      "7            0.1495       0.2600     16  \n",
      "8            0.1125       0.1650      9  \n",
      "9            0.1510       0.3200     19  \n",
      "10           0.1475       0.2100     14  \n",
      "11           0.0810       0.1350     10  \n",
      "12           0.0950       0.1900     11  \n",
      "13           0.1710       0.2050     10  \n",
      "14           0.0805       0.1850     10  \n",
      "15           0.1330       0.2400     12  \n",
      "16           0.0395       0.1150      7  \n",
      "17           0.0870       0.1300     10  \n",
      "18           0.0430       0.1000      7  \n",
      "19           0.0750       0.1150      9  \n",
      "20           0.0620       0.0750     11  \n",
      "21           0.0490       0.0850     10  \n",
      "22           0.2140       0.2700     12  \n",
      "23           0.2100       0.2000      9  \n",
      "24           0.3010       0.3050     10  \n",
      "25           0.1880       0.3000     11  \n",
      "26           0.2720       0.2850     11  \n",
      "27           0.2340       0.2800     12  \n",
      "28           0.2190       0.2950     15  \n",
      "29           0.2270       0.2000     11  \n",
      "...             ...          ...    ...  \n",
      "4147         0.3600       0.4450     11  \n",
      "4148         0.5260       0.3550     11  \n",
      "4149         0.0215       0.0300      6  \n",
      "4150         0.0365       0.0460      7  \n",
      "4151         0.0355       0.0410      6  \n",
      "4152         0.0545       0.0615      7  \n",
      "4153         0.0715       0.1100      8  \n",
      "4154         0.0750       0.0885      6  \n",
      "4155         0.0895       0.1150      6  \n",
      "4156         0.1070       0.1460      8  \n",
      "4157         0.1045       0.1550      8  \n",
      "4158         0.0890       0.1400      8  \n",
      "4159         0.1615       0.2590      9  \n",
      "4160         0.2170       0.3000     11  \n",
      "4161         0.2630       0.2845     11  \n",
      "4162         0.0680       0.0920      8  \n",
      "4163         0.0695       0.0790      7  \n",
      "4164         0.0635       0.0810      7  \n",
      "4165         0.0505       0.0880      7  \n",
      "4166         0.0885       0.1560     10  \n",
      "4167         0.1265       0.1535      9  \n",
      "4168         0.1230       0.1765      8  \n",
      "4169         0.1800       0.1815     10  \n",
      "4170         0.1955       0.2405     10  \n",
      "4171         0.1720       0.2290      8  \n",
      "4172         0.2390       0.2490     11  \n",
      "4173         0.2145       0.2605     10  \n",
      "4174         0.2875       0.3080      9  \n",
      "4175         0.2610       0.2960     10  \n",
      "4176         0.3765       0.4950     12  \n",
      "\n",
      "[4177 rows x 9 columns]\n",
      "      Sex  Length  Diameter  Height  WholeWeight  ShuckedWeight  \\\n",
      "0       1   0.455     0.365   0.095       0.5140         0.2245   \n",
      "1       1   0.350     0.265   0.090       0.2255         0.0995   \n",
      "2      -1   0.530     0.420   0.135       0.6770         0.2565   \n",
      "3       1   0.440     0.365   0.125       0.5160         0.2155   \n",
      "4       0   0.330     0.255   0.080       0.2050         0.0895   \n",
      "5       0   0.425     0.300   0.095       0.3515         0.1410   \n",
      "6      -1   0.530     0.415   0.150       0.7775         0.2370   \n",
      "7      -1   0.545     0.425   0.125       0.7680         0.2940   \n",
      "8       1   0.475     0.370   0.125       0.5095         0.2165   \n",
      "9      -1   0.550     0.440   0.150       0.8945         0.3145   \n",
      "10     -1   0.525     0.380   0.140       0.6065         0.1940   \n",
      "11      1   0.430     0.350   0.110       0.4060         0.1675   \n",
      "12      1   0.490     0.380   0.135       0.5415         0.2175   \n",
      "13     -1   0.535     0.405   0.145       0.6845         0.2725   \n",
      "14     -1   0.470     0.355   0.100       0.4755         0.1675   \n",
      "15      1   0.500     0.400   0.130       0.6645         0.2580   \n",
      "16      0   0.355     0.280   0.085       0.2905         0.0950   \n",
      "17     -1   0.440     0.340   0.100       0.4510         0.1880   \n",
      "18      1   0.365     0.295   0.080       0.2555         0.0970   \n",
      "19      1   0.450     0.320   0.100       0.3810         0.1705   \n",
      "20      1   0.355     0.280   0.095       0.2455         0.0955   \n",
      "21      0   0.380     0.275   0.100       0.2255         0.0800   \n",
      "22     -1   0.565     0.440   0.155       0.9395         0.4275   \n",
      "23     -1   0.550     0.415   0.135       0.7635         0.3180   \n",
      "24     -1   0.615     0.480   0.165       1.1615         0.5130   \n",
      "25     -1   0.560     0.440   0.140       0.9285         0.3825   \n",
      "26     -1   0.580     0.450   0.185       0.9955         0.3945   \n",
      "27      1   0.590     0.445   0.140       0.9310         0.3560   \n",
      "28      1   0.605     0.475   0.180       0.9365         0.3940   \n",
      "29      1   0.575     0.425   0.140       0.8635         0.3930   \n",
      "...   ...     ...       ...     ...          ...            ...   \n",
      "4147    1   0.695     0.550   0.195       1.6645         0.7270   \n",
      "4148    1   0.770     0.605   0.175       2.0505         0.8005   \n",
      "4149    0   0.280     0.215   0.070       0.1240         0.0630   \n",
      "4150    0   0.330     0.230   0.080       0.1400         0.0565   \n",
      "4151    0   0.350     0.250   0.075       0.1695         0.0835   \n",
      "4152    0   0.370     0.280   0.090       0.2180         0.0995   \n",
      "4153    0   0.430     0.315   0.115       0.3840         0.1885   \n",
      "4154    0   0.435     0.330   0.095       0.3930         0.2190   \n",
      "4155    0   0.440     0.350   0.110       0.3805         0.1575   \n",
      "4156    1   0.475     0.370   0.110       0.4895         0.2185   \n",
      "4157    1   0.475     0.360   0.140       0.5135         0.2410   \n",
      "4158    0   0.480     0.355   0.110       0.4495         0.2010   \n",
      "4159   -1   0.560     0.440   0.135       0.8025         0.3500   \n",
      "4160   -1   0.585     0.475   0.165       1.0530         0.4580   \n",
      "4161   -1   0.585     0.455   0.170       0.9945         0.4255   \n",
      "4162    1   0.385     0.255   0.100       0.3175         0.1370   \n",
      "4163    0   0.390     0.310   0.085       0.3440         0.1810   \n",
      "4164    0   0.390     0.290   0.100       0.2845         0.1255   \n",
      "4165    0   0.405     0.300   0.085       0.3035         0.1500   \n",
      "4166    0   0.475     0.365   0.115       0.4990         0.2320   \n",
      "4167    1   0.500     0.380   0.125       0.5770         0.2690   \n",
      "4168   -1   0.515     0.400   0.125       0.6150         0.2865   \n",
      "4169    1   0.520     0.385   0.165       0.7910         0.3750   \n",
      "4170    1   0.550     0.430   0.130       0.8395         0.3155   \n",
      "4171    1   0.560     0.430   0.155       0.8675         0.4000   \n",
      "4172   -1   0.565     0.450   0.165       0.8870         0.3700   \n",
      "4173    1   0.590     0.440   0.135       0.9660         0.4390   \n",
      "4174    1   0.600     0.475   0.205       1.1760         0.5255   \n",
      "4175   -1   0.625     0.485   0.150       1.0945         0.5310   \n",
      "4176    1   0.710     0.555   0.195       1.9485         0.9455   \n",
      "\n",
      "      VisceraWeight  ShellWeight  \n",
      "0            0.1010       0.1500  \n",
      "1            0.0485       0.0700  \n",
      "2            0.1415       0.2100  \n",
      "3            0.1140       0.1550  \n",
      "4            0.0395       0.0550  \n",
      "5            0.0775       0.1200  \n",
      "6            0.1415       0.3300  \n",
      "7            0.1495       0.2600  \n",
      "8            0.1125       0.1650  \n",
      "9            0.1510       0.3200  \n",
      "10           0.1475       0.2100  \n",
      "11           0.0810       0.1350  \n",
      "12           0.0950       0.1900  \n",
      "13           0.1710       0.2050  \n",
      "14           0.0805       0.1850  \n",
      "15           0.1330       0.2400  \n",
      "16           0.0395       0.1150  \n",
      "17           0.0870       0.1300  \n",
      "18           0.0430       0.1000  \n",
      "19           0.0750       0.1150  \n",
      "20           0.0620       0.0750  \n",
      "21           0.0490       0.0850  \n",
      "22           0.2140       0.2700  \n",
      "23           0.2100       0.2000  \n",
      "24           0.3010       0.3050  \n",
      "25           0.1880       0.3000  \n",
      "26           0.2720       0.2850  \n",
      "27           0.2340       0.2800  \n",
      "28           0.2190       0.2950  \n",
      "29           0.2270       0.2000  \n",
      "...             ...          ...  \n",
      "4147         0.3600       0.4450  \n",
      "4148         0.5260       0.3550  \n",
      "4149         0.0215       0.0300  \n",
      "4150         0.0365       0.0460  \n",
      "4151         0.0355       0.0410  \n",
      "4152         0.0545       0.0615  \n",
      "4153         0.0715       0.1100  \n",
      "4154         0.0750       0.0885  \n",
      "4155         0.0895       0.1150  \n",
      "4156         0.1070       0.1460  \n",
      "4157         0.1045       0.1550  \n",
      "4158         0.0890       0.1400  \n",
      "4159         0.1615       0.2590  \n",
      "4160         0.2170       0.3000  \n",
      "4161         0.2630       0.2845  \n",
      "4162         0.0680       0.0920  \n",
      "4163         0.0695       0.0790  \n",
      "4164         0.0635       0.0810  \n",
      "4165         0.0505       0.0880  \n",
      "4166         0.0885       0.1560  \n",
      "4167         0.1265       0.1535  \n",
      "4168         0.1230       0.1765  \n",
      "4169         0.1800       0.1815  \n",
      "4170         0.1955       0.2405  \n",
      "4171         0.1720       0.2290  \n",
      "4172         0.2390       0.2490  \n",
      "4173         0.2145       0.2605  \n",
      "4174         0.2875       0.3080  \n",
      "4175         0.2610       0.2960  \n",
      "4176         0.3765       0.4950  \n",
      "\n",
      "[4177 rows x 8 columns]\n"
     ]
    }
   ],
   "source": [
    "import pandas as pd\n",
    "\n",
    "data = pd.read_csv(\"abalone.csv\")\n",
    "data['Sex'] = data['Sex'].map(lambda x: 1 if x == 'M' else (-1 if x == 'F' else 0))\n",
    "\n",
    "Y = data['Rings']\n",
    "X = data.drop('Rings',1)\n",
    "\n"
   ]
  },
  {
   "cell_type": "code",
   "execution_count": 10,
   "metadata": {
    "collapsed": false
   },
   "outputs": [
    {
     "name": "stdout",
     "output_type": "stream",
     "text": [
      "0.102163125849\n",
      "{'n_estimators': 1}\n",
      "0.338412959313\n",
      "{'n_estimators': 2}\n",
      "0.403584837629\n",
      "{'n_estimators': 3}\n",
      "0.442722234326\n",
      "{'n_estimators': 4}\n",
      "0.464020401671\n",
      "{'n_estimators': 5}\n",
      "0.470580138647\n",
      "{'n_estimators': 6}\n",
      "0.47582658808\n",
      "{'n_estimators': 7}\n",
      "0.481738243326\n",
      "{'n_estimators': 8}\n",
      "0.488342750783\n",
      "{'n_estimators': 9}\n",
      "0.494458152768\n",
      "{'n_estimators': 10}\n",
      "0.493391074362\n",
      "{'n_estimators': 11}\n",
      "0.497961126662\n",
      "{'n_estimators': 12}\n",
      "0.50213210699\n",
      "{'n_estimators': 13}\n",
      "0.506424775497\n",
      "{'n_estimators': 14}\n",
      "0.508328085298\n",
      "{'n_estimators': 15}\n",
      "0.510509452008\n",
      "{'n_estimators': 16}\n",
      "0.513845502985\n",
      "{'n_estimators': 17}\n",
      "0.516324176384\n",
      "{'n_estimators': 18}\n",
      "0.519031046713\n",
      "{'n_estimators': 19}\n",
      "0.518670729546\n",
      "{'n_estimators': 20}\n",
      "0.51983247513\n",
      "{'n_estimators': 21}\n",
      "0.520155890139\n",
      "{'n_estimators': 22}\n",
      "0.521015079498\n",
      "{'n_estimators': 23}\n",
      "0.522401328334\n",
      "{'n_estimators': 24}\n",
      "0.522615326396\n",
      "{'n_estimators': 25}\n",
      "0.523804761492\n",
      "{'n_estimators': 26}\n",
      "0.524120059055\n",
      "{'n_estimators': 27}\n",
      "0.525050806268\n",
      "{'n_estimators': 28}\n",
      "0.52596755301\n",
      "{'n_estimators': 29}\n",
      "0.526534754321\n",
      "{'n_estimators': 30}\n",
      "0.527096390596\n",
      "{'n_estimators': 31}\n",
      "0.52838584687\n",
      "{'n_estimators': 32}\n",
      "0.529612686174\n",
      "{'n_estimators': 33}\n",
      "0.529559798833\n",
      "{'n_estimators': 34}\n",
      "0.529513146047\n",
      "{'n_estimators': 35}\n",
      "0.529595647382\n",
      "{'n_estimators': 36}\n",
      "0.529127350278\n",
      "{'n_estimators': 37}\n",
      "0.529156227253\n",
      "{'n_estimators': 38}\n",
      "0.529236970941\n",
      "{'n_estimators': 39}\n",
      "0.529062998534\n",
      "{'n_estimators': 40}\n",
      "0.529338105916\n",
      "{'n_estimators': 41}\n",
      "0.529569243519\n",
      "{'n_estimators': 42}\n",
      "0.529371420704\n",
      "{'n_estimators': 43}\n",
      "0.529115268453\n",
      "{'n_estimators': 44}\n",
      "0.52837143582\n",
      "{'n_estimators': 45}\n",
      "0.528516251032\n",
      "{'n_estimators': 46}\n",
      "0.528700173877\n",
      "{'n_estimators': 47}\n",
      "0.529607881742\n",
      "{'n_estimators': 48}\n",
      "0.530389749611\n",
      "{'n_estimators': 49}\n"
     ]
    }
   ],
   "source": [
    "from sklearn.ensemble import RandomForestRegressor\n",
    "from sklearn.cross_validation import KFold\n",
    "from sklearn.grid_search import GridSearchCV\n",
    "import numpy as np\n",
    "\n",
    "grid = {\"n_estimators\": np.arange(1,50)}\n",
    "ens = RandomForestRegressor(random_state = 1)\n",
    "cv = KFold(Y.size, shuffle=True, n_folds=5, random_state = 1)\n",
    "gs = GridSearchCV(ens, grid, scoring = 'r2', cv = cv)\n",
    "gs.fit(X,Y)\n",
    "for a in gs.grid_scores_:\n",
    "    print(a.mean_validation_score)\n",
    "    print(a.parameters)"
   ]
  },
  {
   "cell_type": "markdown",
   "metadata": {},
   "source": [
    "# Gradient boosting"
   ]
  },
  {
   "cell_type": "code",
   "execution_count": 2,
   "metadata": {
    "collapsed": false
   },
   "outputs": [],
   "source": [
    "import pandas as pd\n",
    "\n",
    "data = pd.read_csv(\"gbm-data.csv\")\n",
    "\n",
    "data_y = data['Activity']\n",
    "data_X = data.drop('Activity', 1)\n",
    "\n",
    "y = data_y.values\n",
    "X = data_X.values"
   ]
  },
  {
   "cell_type": "code",
   "execution_count": 19,
   "metadata": {
    "collapsed": false
   },
   "outputs": [
    {
     "name": "stdout",
     "output_type": "stream",
     "text": [
      "      Iter       Train Loss   Remaining Time \n",
      "         1           1.2613            2.08m\n",
      "         2           1.1715            2.14m\n",
      "         3           1.1009            2.20m\n",
      "         4           1.0529            2.22m\n",
      "         5           1.0130            2.18m\n",
      "         6           0.9740            2.13m\n",
      "         7           0.9475            2.06m\n",
      "         8           0.9197            2.02m\n",
      "         9           0.8979            1.98m\n",
      "        10           0.8730            1.95m\n",
      "        20           0.7207            2.01m\n",
      "        30           0.6055            1.92m\n",
      "        40           0.5244            1.84m\n",
      "        50           0.4501            1.79m\n",
      "        60           0.3908            1.72m\n",
      "        70           0.3372            1.63m\n",
      "        80           0.3009            1.59m\n",
      "        90           0.2603            1.52m\n",
      "       100           0.2327            1.44m\n",
      "       200           0.0835           29.80s\n"
     ]
    },
    {
     "data": {
      "image/png": "[encoded data removed]",
      "text/plain": [
       "<matplotlib.figure.Figure at 0x21155f28>"
      ]
     },
     "metadata": {},
     "output_type": "display_data"
    },
    {
     "name": "stdout",
     "output_type": "stream",
     "text": [
      "36 0.530439819735\n"
     ]
    }
   ],
   "source": [
    "from sklearn.cross_validation import train_test_split\n",
    "from sklearn.ensemble import GradientBoostingClassifier\n",
    "from sklearn.metrics import log_loss\n",
    "import numpy as np\n",
    "\n",
    "def print_plot(train_loss, test_loss ):\n",
    "    import matplotlib.pyplot as plt\n",
    "    %matplotlib inline\n",
    "    plt.figure()\n",
    "    plt.plot(test_loss, 'r', linewidth=2)\n",
    "    plt.plot(train_loss, 'g', linewidth=2)\n",
    "    plt.legend(['test', 'train'])\n",
    "    plt.show()\n",
    "\n",
    "def sigm(y):\n",
    "    return 1/(1 + np.exp(-1 * y))\n",
    "\n",
    "X_train, X_test, y_train, y_test = train_test_split(X, y, test_size = 0.8, random_state = 241)\n",
    "\n",
    "\n",
    "for el in [0.2]:\n",
    "    clf = GradientBoostingClassifier(n_estimators = 250, learning_rate = el, verbose = True, random_state = 241)\n",
    "    clf.fit(X_train, y_train)\n",
    "    test_loss = np.empty(len(clf.estimators_))\n",
    "    train_loss = np.empty(len(clf.estimators_))\n",
    "    for i, pred in enumerate(clf.staged_decision_function(X_train)):\n",
    "        train_loss[i] = log_loss(y_train, sigm(pred))\n",
    "    for i, pred in enumerate(clf.staged_decision_function(X_test)):\n",
    "        test_loss[i] = log_loss(y_test, sigm(pred))\n",
    "    print_plot(train_loss, test_loss)\n",
    "    m = np.argmin(test_loss)\n",
    "    print m, test_loss[m]\n"
   ]
  },
  {
   "cell_type": "code",
   "execution_count": 23,
   "metadata": {
    "collapsed": false
   },
   "outputs": [
    {
     "name": "stdout",
     "output_type": "stream",
     "text": [
      "0.54138128618\n"
     ]
    }
   ],
   "source": [
    "from sklearn.ensemble import RandomForestClassifier\n",
    "from sklearn.metrics import log_loss\n",
    "\n",
    "ens = RandomForestClassifier(n_estimators = 36, random_state = 241)\n",
    "ens.fit(X_train, y_train)\n",
    "print log_loss(y_test, ens.predict_proba(X_test))"
   ]
  },
  {
   "cell_type": "code",
   "execution_count": null,
   "metadata": {
    "collapsed": true
   },
   "outputs": [],
   "source": []
  }
 ],
 "metadata": {
  "kernelspec": {
   "display_name": "Python 2",
   "language": "python",
   "name": "python2"
  },
  "language_info": {
   "codemirror_mode": {
    "name": "ipython",
    "version": 2
   },
   "file_extension": ".py",
   "mimetype": "text/x-python",
   "name": "python",
   "nbconvert_exporter": "python",
   "pygments_lexer": "ipython2",
   "version": "2.7.11"
  }
 },
 "nbformat": 4,
 "nbformat_minor": 0
}
