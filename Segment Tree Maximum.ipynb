{
 "cells": [
  {
   "cell_type": "code",
   "execution_count": 43,
   "metadata": {
    "collapsed": false
   },
   "outputs": [],
   "source": [
    "import math as m\n",
    "\n",
    "def closest_power_2(n):\n",
    "    return int(2**(m.floor(m.log(n,2) + 1)))\n",
    "\n",
    "def build_tree(in_array):\n",
    "    \n",
    "    elements_num = len(in_array)\n",
    "    node_number = closest_power_2(elements_num)\n",
    "    tree = 2 * node_number * [0]\n",
    "    \n",
    "    for i in xrange(node_number, node_number + elements_num, 1):\n",
    "        tree[i] = in_array[i - node_number]\n",
    "        \n",
    "    for i in xrange(node_number - 1, -1, -1):\n",
    "        tree[i] = max(tree[2 * i], tree[2 * i + 1])\n",
    "        \n",
    "    return tree\n",
    "\n",
    "def read_massive(file_stream):\n",
    "    \n",
    "    massive_num = int(next(file_stream))\n",
    "    array = [int(el) for el in next(file_stream).split()]\n",
    "    \n",
    "    return array\n",
    "\n",
    "def read_commands(file_stream):\n",
    "    \n",
    "    commands_num = int(next(file_stream))\n",
    "    array = [[el for el in next(file_stream).split()] for index in xrange(commands_num)]\n",
    "    \n",
    "    return array\n",
    "\n",
    "def find_max(array, left, right):\n",
    "    \n",
    "    size = len(array) / 2\n",
    "    answer = 0\n",
    "    left = left + size\n",
    "    right = right + size\n",
    "\n",
    "    while(left <= right):\n",
    "    \n",
    "        if(left % 2 == 1):\n",
    "            answer = max(answer, array[left])\n",
    "            \n",
    "        if(right % 2 == 0):\n",
    "            answer = max(answer, array[right])\n",
    "        \n",
    "        left = (left + 1) / 2\n",
    "        right = (right - 1) / 2\n",
    "        \n",
    "    return int(answer)\n",
    "\n",
    "def modify(array, index, element):\n",
    "    \n",
    "    size = len(array) / 2\n",
    "    index = index + size\n",
    "    array[index] = element\n",
    "\n",
    "    while(index > 0):\n",
    "        index /= 2\n",
    "        array[index] = max(array[2 * index], array[2 * index + 1])\n",
    "\n",
    "with open(\"input.txt\") as f:\n",
    "    array =  read_massive(f)\n",
    "    commands = read_commands(f)\n",
    "f.close()\n",
    "\n",
    "tree = build_tree(array)\n",
    "answers = []\n",
    "\n",
    "for command in commands:\n",
    "    if command[0] == 's':\n",
    "        answers.append(find_max(tree, int(command[1]) - 1, int(command[2]) - 1))\n",
    "    if command[0] == 'u':\n",
    "        modify(tree, int(command[1]) - 1, int(command[2]))\n",
    "        \n",
    "with open(\"output.txt\", 'w') as out:\n",
    "    out.write(\" \".join(str(el) for el in answers))\n",
    "out.close()"
   ]
  },
  {
   "cell_type": "code",
   "execution_count": null,
   "metadata": {
    "collapsed": true
   },
   "outputs": [],
   "source": []
  },
  {
   "cell_type": "code",
   "execution_count": null,
   "metadata": {
    "collapsed": true
   },
   "outputs": [],
   "source": []
  }
 ],
 "metadata": {
  "kernelspec": {
   "display_name": "Python 2",
   "language": "python",
   "name": "python2"
  },
  "language_info": {
   "codemirror_mode": {
    "name": "ipython",
    "version": 2
   },
   "file_extension": ".py",
   "mimetype": "text/x-python",
   "name": "python",
   "nbconvert_exporter": "python",
   "pygments_lexer": "ipython2",
   "version": "2.7.11"
  }
 },
 "nbformat": 4,
 "nbformat_minor": 0
}
